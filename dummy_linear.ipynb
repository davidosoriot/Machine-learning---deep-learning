{
  "nbformat": 4,
  "nbformat_minor": 0,
  "metadata": {
    "colab": {
      "provenance": [],
      "gpuType": "T4"
    },
    "kernelspec": {
      "name": "python3",
      "display_name": "Python 3"
    },
    "language_info": {
      "name": "python"
    },
    "accelerator": "GPU"
  },
  "cells": [
    {
      "cell_type": "code",
      "execution_count": 151,
      "metadata": {
        "colab": {
          "base_uri": "https://localhost:8080/",
          "height": 35
        },
        "collapsed": true,
        "id": "VPX5-3b1TnLS",
        "outputId": "95f005dc-4476-4c72-e8f9-b34d3f89ead5"
      },
      "outputs": [
        {
          "output_type": "execute_result",
          "data": {
            "text/plain": [
              "'2.5.1+cu124'"
            ],
            "application/vnd.google.colaboratory.intrinsic+json": {
              "type": "string"
            }
          },
          "metadata": {},
          "execution_count": 151
        }
      ],
      "source": [
        "import torch\n",
        "from torch import nn\n",
        "import matplotlib.pyplot as plt\n",
        "\n",
        "torch.__version__"
      ]
    },
    {
      "cell_type": "code",
      "source": [
        "device = \"cuda\" if torch.cuda.is_available() else \"cpu\"\n",
        "print(device)"
      ],
      "metadata": {
        "colab": {
          "base_uri": "https://localhost:8080/"
        },
        "id": "_aTF3k9lUhVT",
        "outputId": "e77d1bc1-a6d9-4278-8526-d3b59865d7cd"
      },
      "execution_count": 152,
      "outputs": [
        {
          "output_type": "stream",
          "name": "stdout",
          "text": [
            "cuda\n"
          ]
        }
      ]
    },
    {
      "cell_type": "code",
      "source": [
        "#formula de regresion\n",
        "weight=0.7\n",
        "bias=0.3\n",
        "start=0\n",
        "end=1\n",
        "step=0.02\n",
        "X=torch.arange(start, end, step). unsqueeze(dim=1)\n",
        "y= weight * X + bias\n",
        "X[:10], y[:10]"
      ],
      "metadata": {
        "colab": {
          "base_uri": "https://localhost:8080/"
        },
        "collapsed": true,
        "id": "7TBD4MgvWbyx",
        "outputId": "6a7ea4e3-f0aa-49d0-a93f-29d25ed5d2bd"
      },
      "execution_count": 153,
      "outputs": [
        {
          "output_type": "execute_result",
          "data": {
            "text/plain": [
              "(tensor([[0.0000],\n",
              "         [0.0200],\n",
              "         [0.0400],\n",
              "         [0.0600],\n",
              "         [0.0800],\n",
              "         [0.1000],\n",
              "         [0.1200],\n",
              "         [0.1400],\n",
              "         [0.1600],\n",
              "         [0.1800]]),\n",
              " tensor([[0.3000],\n",
              "         [0.3140],\n",
              "         [0.3280],\n",
              "         [0.3420],\n",
              "         [0.3560],\n",
              "         [0.3700],\n",
              "         [0.3840],\n",
              "         [0.3980],\n",
              "         [0.4120],\n",
              "         [0.4260]]))"
            ]
          },
          "metadata": {},
          "execution_count": 153
        }
      ]
    },
    {
      "cell_type": "code",
      "source": [
        "#split data\n",
        "train_split= int(0.8 * len(X))\n",
        "X_train, y_train = X[:train_split], y[:train_split]\n",
        "X_test, y_test = X[train_split:], y[train_split:]\n",
        "len(X_train), len(y_train), len(X_test), len(y_test)"
      ],
      "metadata": {
        "colab": {
          "base_uri": "https://localhost:8080/"
        },
        "id": "y7zyYEUbXYr_",
        "outputId": "476adb09-03ee-4e9c-ab66-44ca91424ad9"
      },
      "execution_count": 154,
      "outputs": [
        {
          "output_type": "execute_result",
          "data": {
            "text/plain": [
              "(40, 40, 10, 10)"
            ]
          },
          "metadata": {},
          "execution_count": 154
        }
      ]
    },
    {
      "cell_type": "code",
      "source": [
        "def plot_predictions(train_data=X_train,\n",
        "                     train_labels=y_train,\n",
        "                     test_data=X_test,\n",
        "                     test_labels=y_test,\n",
        "                     predictions=None):\n",
        "  plt.figure(figsize=(10,7))\n",
        "  plt.scatter(train_data, train_labels, c=\"b\", s=4, label=\"training data\")\n",
        "  plt.scatter(test_data, test_labels, c=\"g\", s=4, label=\"testing data\")\n",
        "\n",
        "  if predictions is not None:\n",
        "    plt.scatter(test_data, predictions, c=\"r\", s=4, label=\"predictions\")\n",
        "\n",
        "  plt.legend(prop={\"size\": 14});\n",
        "\n"
      ],
      "metadata": {
        "id": "K7QRZ5jyaB8f"
      },
      "execution_count": 155,
      "outputs": []
    },
    {
      "cell_type": "code",
      "source": [
        "class LinearRegressionModelV2(nn.Module):\n",
        "  def __init__(self):\n",
        "    super().__init__()\n",
        "    self.linear_layer = nn.Linear(in_features=1,\n",
        "                                  out_features=1)\n",
        "\n",
        "  def forward(self, x: torch.Tensor)  -> torch.Tensor:\n",
        "     return self.linear_layer(x)\n",
        "\n",
        "\n",
        "torch.manual_seed(42)\n",
        "model_1 = LinearRegressionModelV2()\n",
        "model_1, model_1.state_dict()"
      ],
      "metadata": {
        "colab": {
          "base_uri": "https://localhost:8080/"
        },
        "id": "1hUlfDV5d3Lv",
        "outputId": "2e18052f-02d7-4738-c83b-5691dd8d3448"
      },
      "execution_count": 156,
      "outputs": [
        {
          "output_type": "execute_result",
          "data": {
            "text/plain": [
              "(LinearRegressionModelV2(\n",
              "   (linear_layer): Linear(in_features=1, out_features=1, bias=True)\n",
              " ),\n",
              " OrderedDict([('linear_layer.weight', tensor([[0.7645]])),\n",
              "              ('linear_layer.bias', tensor([0.8300]))]))"
            ]
          },
          "metadata": {},
          "execution_count": 156
        }
      ]
    },
    {
      "cell_type": "code",
      "source": [
        "X_train[:5], y_train[:5]"
      ],
      "metadata": {
        "colab": {
          "base_uri": "https://localhost:8080/"
        },
        "id": "o1vV7wcnir6h",
        "outputId": "c26ca4af-337a-456c-cb39-28bc1d097ee2"
      },
      "execution_count": 157,
      "outputs": [
        {
          "output_type": "execute_result",
          "data": {
            "text/plain": [
              "(tensor([[0.0000],\n",
              "         [0.0200],\n",
              "         [0.0400],\n",
              "         [0.0600],\n",
              "         [0.0800]]),\n",
              " tensor([[0.3000],\n",
              "         [0.3140],\n",
              "         [0.3280],\n",
              "         [0.3420],\n",
              "         [0.3560]]))"
            ]
          },
          "metadata": {},
          "execution_count": 157
        }
      ]
    },
    {
      "cell_type": "code",
      "source": [
        "#check device model\n",
        "next(model_1.parameters()).device"
      ],
      "metadata": {
        "colab": {
          "base_uri": "https://localhost:8080/"
        },
        "id": "gP_By6cMjiez",
        "outputId": "81b981b9-6a96-45db-e2fc-e11fd7766f1d"
      },
      "execution_count": 158,
      "outputs": [
        {
          "output_type": "execute_result",
          "data": {
            "text/plain": [
              "device(type='cpu')"
            ]
          },
          "metadata": {},
          "execution_count": 158
        }
      ]
    },
    {
      "cell_type": "code",
      "source": [
        "#set the model to use gpu\n",
        "model_1.to(device)\n",
        "next(model_1.parameters()).device"
      ],
      "metadata": {
        "colab": {
          "base_uri": "https://localhost:8080/"
        },
        "id": "qYvdNUsmj5s6",
        "outputId": "a00946c5-039c-4b92-f12b-62a324da7ef1"
      },
      "execution_count": 159,
      "outputs": [
        {
          "output_type": "execute_result",
          "data": {
            "text/plain": [
              "device(type='cuda', index=0)"
            ]
          },
          "metadata": {},
          "execution_count": 159
        }
      ]
    },
    {
      "cell_type": "code",
      "source": [
        "#loss function\n",
        "loss_fn = nn.L1Loss()\n",
        "#set up optimizer\n",
        "optimizer = torch.optim.SGD(params=model_1.parameters(),\n",
        "                            lr=0.01)"
      ],
      "metadata": {
        "id": "JsoTsLoQkbPC"
      },
      "execution_count": 160,
      "outputs": []
    },
    {
      "cell_type": "code",
      "source": [
        "torch.manual_seed(42)\n",
        "\n",
        "epochs = 100\n",
        "\n",
        "#put data on the same device\n",
        "X_train=X_train.to(device)\n",
        "y_train=y_train.to(device)\n",
        "X_test=X_test.to(device)\n",
        "y_test=y_test.to(device)\n",
        "\n",
        "for epoch in range(epochs):\n",
        "  model_1.train()\n",
        "  #forward pass\n",
        "  y_pred = model_1(X_train)\n",
        "  #calculate the loss\n",
        "  loss = loss_fn(y_pred, y_train)\n",
        "  #optimizer zero grad\n",
        "  optimizer.zero_grad()\n",
        "  #loss backward\n",
        "  loss.backward()\n",
        "  #optimizer step\n",
        "  optimizer.step()\n",
        "  ### testing\n",
        "  model_1.eval()\n",
        "  with torch.inference_mode():\n",
        "    test_pred = model_1(X_test)\n",
        "\n",
        "    test_loss = loss_fn(test_pred, y_test)\n",
        "  if epoch % 10 == 0:\n",
        "    print(f\"epoch: {epoch} | loss:{loss} | test loss:{test_loss}\")\n",
        "    print(model_1.state_dict())"
      ],
      "metadata": {
        "colab": {
          "base_uri": "https://localhost:8080/"
        },
        "id": "dDeIlslOlN2Q",
        "outputId": "73e56ea1-8217-4ebf-dd35-13ede9b3e136"
      },
      "execution_count": 161,
      "outputs": [
        {
          "output_type": "stream",
          "name": "stdout",
          "text": [
            "epoch: 0 | loss:0.5551779866218567 | test loss:0.5739762187004089\n",
            "OrderedDict([('linear_layer.weight', tensor([[0.7606]], device='cuda:0')), ('linear_layer.bias', tensor([0.8200], device='cuda:0'))])\n",
            "epoch: 10 | loss:0.439968079328537 | test loss:0.4392664134502411\n",
            "OrderedDict([('linear_layer.weight', tensor([[0.7216]], device='cuda:0')), ('linear_layer.bias', tensor([0.7200], device='cuda:0'))])\n",
            "epoch: 20 | loss:0.3247582018375397 | test loss:0.30455657839775085\n",
            "OrderedDict([('linear_layer.weight', tensor([[0.6826]], device='cuda:0')), ('linear_layer.bias', tensor([0.6200], device='cuda:0'))])\n",
            "epoch: 30 | loss:0.20954833924770355 | test loss:0.16984669864177704\n",
            "OrderedDict([('linear_layer.weight', tensor([[0.6436]], device='cuda:0')), ('linear_layer.bias', tensor([0.5200], device='cuda:0'))])\n",
            "epoch: 40 | loss:0.09433845430612564 | test loss:0.03513690456748009\n",
            "OrderedDict([('linear_layer.weight', tensor([[0.6046]], device='cuda:0')), ('linear_layer.bias', tensor([0.4200], device='cuda:0'))])\n",
            "epoch: 50 | loss:0.023886388167738914 | test loss:0.04784907028079033\n",
            "OrderedDict([('linear_layer.weight', tensor([[0.5872]], device='cuda:0')), ('linear_layer.bias', tensor([0.3525], device='cuda:0'))])\n",
            "epoch: 60 | loss:0.019956795498728752 | test loss:0.045803118497133255\n",
            "OrderedDict([('linear_layer.weight', tensor([[0.6025]], device='cuda:0')), ('linear_layer.bias', tensor([0.3410], device='cuda:0'))])\n",
            "epoch: 70 | loss:0.016517987474799156 | test loss:0.037530567497015\n",
            "OrderedDict([('linear_layer.weight', tensor([[0.6196]], device='cuda:0')), ('linear_layer.bias', tensor([0.3340], device='cuda:0'))])\n",
            "epoch: 80 | loss:0.013089174404740334 | test loss:0.02994490973651409\n",
            "OrderedDict([('linear_layer.weight', tensor([[0.6366]], device='cuda:0')), ('linear_layer.bias', tensor([0.3265], device='cuda:0'))])\n",
            "epoch: 90 | loss:0.009653178043663502 | test loss:0.02167237363755703\n",
            "OrderedDict([('linear_layer.weight', tensor([[0.6537]], device='cuda:0')), ('linear_layer.bias', tensor([0.3195], device='cuda:0'))])\n"
          ]
        }
      ]
    },
    {
      "cell_type": "code",
      "source": [
        "model_1.state_dict()"
      ],
      "metadata": {
        "colab": {
          "base_uri": "https://localhost:8080/"
        },
        "id": "RY06XjP1oM3s",
        "outputId": "12f308f7-0834-4065-d99c-d0475e5458c8"
      },
      "execution_count": 162,
      "outputs": [
        {
          "output_type": "execute_result",
          "data": {
            "text/plain": [
              "OrderedDict([('linear_layer.weight', tensor([[0.6691]], device='cuda:0')),\n",
              "             ('linear_layer.bias', tensor([0.3130], device='cuda:0'))])"
            ]
          },
          "metadata": {},
          "execution_count": 162
        }
      ]
    },
    {
      "cell_type": "code",
      "source": [
        "model_1.eval()\n",
        "#make predictions\n",
        "with torch.inference_mode():\n",
        "  y_preds = model_1(X_test)\n",
        "y_preds"
      ],
      "metadata": {
        "colab": {
          "base_uri": "https://localhost:8080/"
        },
        "id": "4kCQ269tpOR2",
        "outputId": "7c6fc0a4-a5ab-4419-b6b1-a085fd1a8a33"
      },
      "execution_count": 163,
      "outputs": [
        {
          "output_type": "execute_result",
          "data": {
            "text/plain": [
              "tensor([[0.8483],\n",
              "        [0.8617],\n",
              "        [0.8750],\n",
              "        [0.8884],\n",
              "        [0.9018],\n",
              "        [0.9152],\n",
              "        [0.9286],\n",
              "        [0.9420],\n",
              "        [0.9553],\n",
              "        [0.9687]], device='cuda:0')"
            ]
          },
          "metadata": {},
          "execution_count": 163
        }
      ]
    },
    {
      "cell_type": "code",
      "source": [
        "#check visually\n",
        "plot_predictions(predictions=y_preds.cpu())"
      ],
      "metadata": {
        "colab": {
          "base_uri": "https://localhost:8080/",
          "height": 461
        },
        "id": "-hX3E2MLpx2V",
        "outputId": "15d22bf3-a2e1-4cdd-b5fd-182f111ec955"
      },
      "execution_count": 164,
      "outputs": [
        {
          "output_type": "display_data",
          "data": {
            "text/plain": [
              "<Figure size 1000x700 with 1 Axes>"
            ],
            "image/png": "[encoded data removed]"
          },
          "metadata": {}
        }
      ]
    },
    {
      "cell_type": "code",
      "source": [
        "#save model\n",
        "from pathlib import Path\n",
        "\n",
        "MODEL_PATH = Path(\"models\")\n",
        "MODEL_PATH.mkdir(parents=True, exist_ok=True)\n",
        "MODEL_NAME= \"dummy_linear_model_1.pth\"\n",
        "MODEL_SAVE_PATH= MODEL_PATH / MODEL_NAME\n",
        "\n",
        "print(f\"saving model to {MODEL_SAVE_PATH}\")\n",
        "torch.save(obj=model_1.state_dict(),\n",
        "           f=MODEL_SAVE_PATH)\n",
        "\n"
      ],
      "metadata": {
        "colab": {
          "base_uri": "https://localhost:8080/"
        },
        "id": "nwt8H0EQAy5U",
        "outputId": "1cf4f92e-801c-455a-fb02-14bee600fe35"
      },
      "execution_count": 166,
      "outputs": [
        {
          "output_type": "stream",
          "name": "stdout",
          "text": [
            "saving model to models/dummy_linear_model_1.pth\n"
          ]
        }
      ]
    },
    {
      "cell_type": "code",
      "source": [
        "#load model\n",
        "loaded_model_1= LinearRegressionModelV2()\n",
        "loaded_model_1.load_state_dict(torch.load(MODEL_SAVE_PATH))\n",
        "loaded_model_1.to(device)"
      ],
      "metadata": {
        "colab": {
          "base_uri": "https://localhost:8080/"
        },
        "id": "FhMwtP67CESS",
        "outputId": "c4573ef5-1649-41d3-d022-a3f2ffd95a80"
      },
      "execution_count": 167,
      "outputs": [
        {
          "output_type": "stream",
          "name": "stderr",
          "text": [
            "<ipython-input-167-c431c1552ca9>:3: FutureWarning: You are using `torch.load` with `weights_only=False` (the current default value), which uses the default pickle module implicitly. It is possible to construct malicious pickle data which will execute arbitrary code during unpickling (See https://github.com/pytorch/pytorch/blob/main/SECURITY.md#untrusted-models for more details). In a future release, the default value for `weights_only` will be flipped to `True`. This limits the functions that could be executed during unpickling. Arbitrary objects will no longer be allowed to be loaded via this mode unless they are explicitly allowlisted by the user via `torch.serialization.add_safe_globals`. We recommend you start setting `weights_only=True` for any use case where you don't have full control of the loaded file. Please open an issue on GitHub for any issues related to this experimental feature.\n",
            "  loaded_model_1.load_state_dict(torch.load(MODEL_SAVE_PATH))\n"
          ]
        },
        {
          "output_type": "execute_result",
          "data": {
            "text/plain": [
              "LinearRegressionModelV2(\n",
              "  (linear_layer): Linear(in_features=1, out_features=1, bias=True)\n",
              ")"
            ]
          },
          "metadata": {},
          "execution_count": 167
        }
      ]
    }
  ]
}